{
 "cells": [
  {
   "cell_type": "code",
   "execution_count": 1,
   "id": "7b7eef6e",
   "metadata": {},
   "outputs": [
    {
     "name": "stdout",
     "output_type": "stream",
     "text": [
      "/home/diego/Escritorio/desde_cero/preflight_qc.py:41: FutureWarning: use_inf_as_na option is deprecated and will be removed in a future version. Convert inf values to NaN before operating instead.\n",
      "  pd.options.mode.use_inf_as_na = True  # compatibilidad\n",
      "2025-06-17 15:00:47,782 - INFO - Iniciando Pre-Flight QC Script...\n",
      "2025-06-17 15:00:47,782 - INFO - --- 1. Verificando Integridad y Alineación de Atlas ---\n",
      "2025-06-17 15:00:47,782 - INFO - Descargando/cargando atlas Yeo-17...\n",
      "2025-06-17 15:00:47,784 - INFO - AAL3 Shape: (181, 217, 181), Affine: \n",
      "[[   1.    0.    0.  -90.]\n",
      " [   0.    1.    0. -126.]\n",
      " [   0.    0.    1.  -72.]]\n",
      "2025-06-17 15:00:47,784 - INFO - Yeo-17 Shape: (256, 256, 256, 1), Affine: \n",
      "[[  -1.    0.    0.  127.]\n",
      " [   0.    0.    1. -145.]\n",
      " [   0.   -1.    0.  147.]]\n",
      "2025-06-17 15:00:47,784 - WARNING - La geometría de los atlas no coincide. Se recomienda verificar que `feature_extraction.py` realice el remuestreo correctamente.\n",
      "2025-06-17 15:00:50,281 - INFO - Coeficiente de Dice entre máscaras cerebrales AAL3 y Yeo-17: 67.0436\n",
      "2025-06-17 15:00:51,265 - INFO - Guardado chequeo visual de alineación de atlas en: /home/diego/Escritorio/desde_cero/mi_informe_qc/visual_atlas_alignment_check.png\n",
      "2025-06-17 15:00:51,273 - INFO - Encontrados 437 archivos de sujetos para procesar.\n",
      "Inspeccionando Sujetos: 100%|█████████████████| 437/437 [04:35<00:00,  1.59it/s]\n",
      "2025-06-17 15:05:26,315 - INFO - Informe CSV de Pre-Flight QC guardado en: /home/diego/Escritorio/desde_cero/mi_informe_qc/subjects_overview_preflight_QC.csv\n",
      "2025-06-17 15:05:26,315 - INFO - --- Generando Informe HTML de Pre-Flight QC ---\n",
      "/home/diego/anaconda3/lib/python3.11/site-packages/seaborn/_oldcore.py:1119: FutureWarning: use_inf_as_na option is deprecated and will be removed in a future version. Convert inf values to NaN before operating instead.\n",
      "  with pd.option_context('mode.use_inf_as_na', True):\n",
      "2025-06-17 15:05:26,652 - INFO - Informe HTML guardado en: /home/diego/Escritorio/desde_cero/mi_informe_qc/preflight_QC_report.html\n",
      "2025-06-17 15:05:26,652 - INFO - Pre-Flight QC completado en 278.87 segundos.\n"
     ]
    }
   ],
   "source": [
    "!python preflight_qc.py \\\n",
    "    --base_path /home/diego/Escritorio/desde_cero \\\n",
    "    --output_dir /home/diego/Escritorio/desde_cero/mi_informe_qc \\\n",
    "    --roi_signals_dir /home/diego/Escritorio/desde_cero/ROISignalsAAL3 \\\n",
    "    --aal3_nifti_path /home/diego/Escritorio/desde_cero/AAL3v1_1mm.nii.gz \\\n",
    "    --tr 3.0 \\\n",
    "    --expected_rois_raw 170"
   ]
  }
 ],
 "metadata": {
  "kernelspec": {
   "display_name": "base",
   "language": "python",
   "name": "python3"
  },
  "language_info": {
   "codemirror_mode": {
    "name": "ipython",
    "version": 3
   },
   "file_extension": ".py",
   "mimetype": "text/x-python",
   "name": "python",
   "nbconvert_exporter": "python",
   "pygments_lexer": "ipython3",
   "version": "3.11.11"
  }
 },
 "nbformat": 4,
 "nbformat_minor": 5
}
